{
 "cells": [
  {
   "cell_type": "markdown",
   "id": "6a4f4a8e-4c43-45d1-91ff-60e74c23bb30",
   "metadata": {},
   "source": [
    "# Loading ASL Dataset"
   ]
  },
  {
   "cell_type": "code",
   "execution_count": 14,
   "id": "e6e5ebf7-25dc-44c6-aa6a-4f81e670b8ed",
   "metadata": {},
   "outputs": [],
   "source": [
    "import cv2\n",
    "import numpy as np\n",
    "import mediapipe as mp\n",
    "import os\n",
    "import glob\n",
    "from tqdm import tqdm\n",
    "import skimage"
   ]
  },
  {
   "cell_type": "code",
   "execution_count": 5,
   "id": "2f92824f-b4cb-4f15-a402-023e5985f0db",
   "metadata": {},
   "outputs": [
    {
     "name": "stdout",
     "output_type": "stream",
     "text": [
      "J\n"
     ]
    },
    {
     "name": "stderr",
     "output_type": "stream",
     "text": [
      "100%|██████████████████████████████████████████████████████████████████████████| 3000/3000 [00:00<00:00, 2479880.17it/s]\n"
     ]
    },
    {
     "name": "stdout",
     "output_type": "stream",
     "text": [
      "J2014.jpg\n",
      "J2324.jpg\n",
      "J2452.jpg\n",
      "J1837.jpg\n",
      "J838.jpg\n",
      "J1380.jpg\n",
      "J817.jpg\n",
      "J403.jpg\n",
      "J197.jpg\n",
      "J551.jpg\n",
      "P\n"
     ]
    },
    {
     "name": "stderr",
     "output_type": "stream",
     "text": [
      "100%|██████████████████████████████████████████████████████████████████████████| 3000/3000 [00:00<00:00, 3410927.62it/s]\n"
     ]
    },
    {
     "name": "stdout",
     "output_type": "stream",
     "text": [
      "P1456.jpg\n",
      "P1665.jpg\n",
      "P2819.jpg\n",
      "P2425.jpg\n",
      "P1234.jpg\n",
      "P1703.jpg\n",
      "P1278.jpg\n",
      "P2457.jpg\n",
      "P2598.jpg\n",
      "P2205.jpg\n",
      "G\n"
     ]
    },
    {
     "name": "stderr",
     "output_type": "stream",
     "text": [
      "100%|██████████████████████████████████████████████████████████████████████████| 3000/3000 [00:00<00:00, 2009728.80it/s]\n"
     ]
    },
    {
     "name": "stdout",
     "output_type": "stream",
     "text": [
      "G2574.jpg\n",
      "G490.jpg\n",
      "G248.jpg\n",
      "G172.jpg\n",
      "G154.jpg\n",
      "G2064.jpg\n",
      "G1085.jpg\n",
      "G1011.jpg\n",
      "G116.jpg\n",
      "G1586.jpg\n",
      "V\n"
     ]
    },
    {
     "name": "stderr",
     "output_type": "stream",
     "text": [
      "100%|███████████████████████████████████████████████████████████████████████████| 3000/3000 [00:00<00:00, 943812.78it/s]\n"
     ]
    },
    {
     "name": "stdout",
     "output_type": "stream",
     "text": [
      "V244.jpg\n",
      "V177.jpg\n",
      "V2664.jpg\n",
      "V732.jpg\n",
      "V1095.jpg\n",
      "V1314.jpg\n",
      "V2311.jpg\n",
      "V2206.jpg\n",
      "V770.jpg\n",
      "V1022.jpg\n",
      "L\n"
     ]
    },
    {
     "name": "stderr",
     "output_type": "stream",
     "text": [
      "100%|███████████████████████████████████████████████████████████████████████████| 3000/3000 [00:00<00:00, 970753.90it/s]\n"
     ]
    },
    {
     "name": "stdout",
     "output_type": "stream",
     "text": [
      "L524.jpg\n",
      "L1970.jpg\n",
      "L292.jpg\n",
      "L970.jpg\n",
      "L66.jpg\n",
      "L493.jpg\n",
      "L2870.jpg\n",
      "L2654.jpg\n",
      "L2804.jpg\n",
      "L1468.jpg\n",
      "B\n"
     ]
    },
    {
     "name": "stderr",
     "output_type": "stream",
     "text": [
      "100%|██████████████████████████████████████████████████████████████████████████| 3000/3000 [00:00<00:00, 3192822.13it/s]\n"
     ]
    },
    {
     "name": "stdout",
     "output_type": "stream",
     "text": [
      "B2081.jpg\n",
      "B1187.jpg\n",
      "B2632.jpg\n",
      "B331.jpg\n",
      "B1283.jpg\n",
      "B2254.jpg\n",
      "B145.jpg\n",
      "B2349.jpg\n",
      "B2863.jpg\n",
      "B710.jpg\n",
      "D\n"
     ]
    },
    {
     "name": "stderr",
     "output_type": "stream",
     "text": [
      "100%|██████████████████████████████████████████████████████████████████████████| 3000/3000 [00:00<00:00, 2654062.86it/s]\n"
     ]
    },
    {
     "name": "stdout",
     "output_type": "stream",
     "text": [
      "D1548.jpg\n",
      "D1410.jpg\n",
      "D559.jpg\n",
      "D176.jpg\n",
      "D2046.jpg\n",
      "D1853.jpg\n",
      "D2509.jpg\n",
      "D537.jpg\n",
      "D2888.jpg\n",
      "D2415.jpg\n",
      "A\n"
     ]
    },
    {
     "name": "stderr",
     "output_type": "stream",
     "text": [
      "100%|██████████████████████████████████████████████████████████████████████████| 3000/3000 [00:00<00:00, 2042017.53it/s]\n"
     ]
    },
    {
     "name": "stdout",
     "output_type": "stream",
     "text": [
      "A1230.jpg\n",
      "A485.jpg\n",
      "A2549.jpg\n",
      "A1632.jpg\n",
      "A682.jpg\n",
      "A394.jpg\n",
      "A2390.jpg\n",
      "A2678.jpg\n",
      "A46.jpg\n",
      "A1163.jpg\n",
      "Q\n"
     ]
    },
    {
     "name": "stderr",
     "output_type": "stream",
     "text": [
      "100%|██████████████████████████████████████████████████████████████████████████| 3000/3000 [00:00<00:00, 1025000.98it/s]\n"
     ]
    },
    {
     "name": "stdout",
     "output_type": "stream",
     "text": [
      "Q1880.jpg\n",
      "Q466.jpg\n",
      "Q997.jpg\n",
      "Q1227.jpg\n",
      "Q1812.jpg\n",
      "Q476.jpg\n",
      "Q1633.jpg\n",
      "Q2632.jpg\n",
      "Q354.jpg\n",
      "Q1216.jpg\n",
      "O\n"
     ]
    },
    {
     "name": "stderr",
     "output_type": "stream",
     "text": [
      "100%|██████████████████████████████████████████████████████████████████████████| 3000/3000 [00:00<00:00, 2248956.57it/s]\n"
     ]
    },
    {
     "name": "stdout",
     "output_type": "stream",
     "text": [
      "O2397.jpg\n",
      "O1423.jpg\n",
      "O174.jpg\n",
      "O1023.jpg\n",
      "O857.jpg\n",
      "O1874.jpg\n",
      "O1858.jpg\n",
      "O1494.jpg\n",
      "O842.jpg\n",
      "O514.jpg\n",
      "U\n"
     ]
    },
    {
     "name": "stderr",
     "output_type": "stream",
     "text": [
      "100%|██████████████████████████████████████████████████████████████████████████| 3000/3000 [00:00<00:00, 1977512.49it/s]\n"
     ]
    },
    {
     "name": "stdout",
     "output_type": "stream",
     "text": [
      "U2097.jpg\n",
      "U1439.jpg\n",
      "U545.jpg\n",
      "U2809.jpg\n",
      "U2011.jpg\n",
      "U2333.jpg\n",
      "U2420.jpg\n",
      "U1181.jpg\n",
      "U911.jpg\n",
      "U672.jpg\n",
      "nothing\n"
     ]
    },
    {
     "name": "stderr",
     "output_type": "stream",
     "text": [
      "100%|██████████████████████████████████████████████████████████████████████████| 3000/3000 [00:00<00:00, 3238844.79it/s]\n"
     ]
    },
    {
     "name": "stdout",
     "output_type": "stream",
     "text": [
      "nothing2534.jpg\n",
      "nothing2934.jpg\n",
      "nothing2423.jpg\n",
      "nothing1858.jpg\n",
      "nothing2160.jpg\n",
      "nothing1242.jpg\n",
      "nothing1370.jpg\n",
      "nothing2228.jpg\n",
      "nothing2816.jpg\n",
      "nothing2569.jpg\n",
      "I\n"
     ]
    },
    {
     "name": "stderr",
     "output_type": "stream",
     "text": [
      "100%|██████████████████████████████████████████████████████████████████████████| 3000/3000 [00:00<00:00, 3303468.63it/s]\n"
     ]
    },
    {
     "name": "stdout",
     "output_type": "stream",
     "text": [
      "I2150.jpg\n",
      "I2240.jpg\n",
      "I2710.jpg\n",
      "I1144.jpg\n",
      "I618.jpg\n",
      "I423.jpg\n",
      "I2649.jpg\n",
      "I943.jpg\n",
      "I375.jpg\n",
      "I73.jpg\n",
      "T\n"
     ]
    },
    {
     "name": "stderr",
     "output_type": "stream",
     "text": [
      "100%|██████████████████████████████████████████████████████████████████████████| 3000/3000 [00:00<00:00, 2066498.93it/s]\n"
     ]
    },
    {
     "name": "stdout",
     "output_type": "stream",
     "text": [
      "T1271.jpg\n",
      "T770.jpg\n",
      "T2389.jpg\n",
      "T1661.jpg\n",
      "T1171.jpg\n",
      "T1642.jpg\n",
      "T738.jpg\n",
      "T1547.jpg\n",
      "T2202.jpg\n",
      "T2912.jpg\n",
      "C\n"
     ]
    },
    {
     "name": "stderr",
     "output_type": "stream",
     "text": [
      "100%|██████████████████████████████████████████████████████████████████████████| 3000/3000 [00:00<00:00, 3133195.22it/s]\n"
     ]
    },
    {
     "name": "stdout",
     "output_type": "stream",
     "text": [
      "C2664.jpg\n",
      "C306.jpg\n",
      "C2097.jpg\n",
      "C2808.jpg\n",
      "C1677.jpg\n",
      "C848.jpg\n",
      "C2120.jpg\n",
      "C1498.jpg\n",
      "C337.jpg\n",
      "C2036.jpg\n",
      "del\n"
     ]
    },
    {
     "name": "stderr",
     "output_type": "stream",
     "text": [
      "100%|██████████████████████████████████████████████████████████████████████████| 3000/3000 [00:00<00:00, 2017785.76it/s]\n"
     ]
    },
    {
     "name": "stdout",
     "output_type": "stream",
     "text": [
      "del2689.jpg\n",
      "del39.jpg\n",
      "del2769.jpg\n",
      "del594.jpg\n",
      "del2492.jpg\n",
      "del135.jpg\n",
      "del2448.jpg\n",
      "del1877.jpg\n",
      "del82.jpg\n",
      "del586.jpg\n",
      "K\n"
     ]
    },
    {
     "name": "stderr",
     "output_type": "stream",
     "text": [
      "100%|██████████████████████████████████████████████████████████████████████████| 3000/3000 [00:00<00:00, 1771991.55it/s]\n"
     ]
    },
    {
     "name": "stdout",
     "output_type": "stream",
     "text": [
      "K139.jpg\n",
      "K2540.jpg\n",
      "K2513.jpg\n",
      "K1978.jpg\n",
      "K1434.jpg\n",
      "K315.jpg\n",
      "K2950.jpg\n",
      "K1327.jpg\n",
      "K2522.jpg\n",
      "K2827.jpg\n",
      "R\n"
     ]
    },
    {
     "name": "stderr",
     "output_type": "stream",
     "text": [
      "100%|██████████████████████████████████████████████████████████████████████████| 3000/3000 [00:00<00:00, 2099951.94it/s]\n"
     ]
    },
    {
     "name": "stdout",
     "output_type": "stream",
     "text": [
      "R1034.jpg\n",
      "R1428.jpg\n",
      "R1770.jpg\n",
      "R613.jpg\n",
      "R590.jpg\n",
      "R966.jpg\n",
      "R1840.jpg\n",
      "R2554.jpg\n",
      "R1331.jpg\n",
      "R1252.jpg\n",
      "M\n"
     ]
    },
    {
     "name": "stderr",
     "output_type": "stream",
     "text": [
      "100%|██████████████████████████████████████████████████████████████████████████| 3000/3000 [00:00<00:00, 3698680.78it/s]\n"
     ]
    },
    {
     "name": "stdout",
     "output_type": "stream",
     "text": [
      "M1964.jpg\n",
      "M2904.jpg\n",
      "M941.jpg\n",
      "M2549.jpg\n",
      "M1971.jpg\n",
      "M2157.jpg\n",
      "M986.jpg\n",
      "M205.jpg\n",
      "M976.jpg\n",
      "M125.jpg\n",
      "F\n"
     ]
    },
    {
     "name": "stderr",
     "output_type": "stream",
     "text": [
      "100%|██████████████████████████████████████████████████████████████████████████| 3000/3000 [00:00<00:00, 1857256.38it/s]\n"
     ]
    },
    {
     "name": "stdout",
     "output_type": "stream",
     "text": [
      "F2065.jpg\n",
      "F307.jpg\n",
      "F1642.jpg\n",
      "F2610.jpg\n",
      "F1720.jpg\n",
      "F1310.jpg\n",
      "F2391.jpg\n",
      "F2916.jpg\n",
      "F2442.jpg\n",
      "F1478.jpg\n",
      "Y\n"
     ]
    },
    {
     "name": "stderr",
     "output_type": "stream",
     "text": [
      "100%|██████████████████████████████████████████████████████████████████████████| 3000/3000 [00:00<00:00, 3801483.99it/s]\n"
     ]
    },
    {
     "name": "stdout",
     "output_type": "stream",
     "text": [
      "Y904.jpg\n",
      "Y789.jpg\n",
      "Y1857.jpg\n",
      "Y997.jpg\n",
      "Y541.jpg\n",
      "Y779.jpg\n",
      "Y2445.jpg\n",
      "Y729.jpg\n",
      "Y618.jpg\n",
      "Y2260.jpg\n",
      "space\n"
     ]
    },
    {
     "name": "stderr",
     "output_type": "stream",
     "text": [
      "100%|██████████████████████████████████████████████████████████████████████████| 3000/3000 [00:00<00:00, 3398031.87it/s]\n"
     ]
    },
    {
     "name": "stdout",
     "output_type": "stream",
     "text": [
      "space654.jpg\n",
      "space1483.jpg\n",
      "space551.jpg\n",
      "space2807.jpg\n",
      "space2331.jpg\n",
      "space1913.jpg\n",
      "space1658.jpg\n",
      "space2302.jpg\n",
      "space233.jpg\n",
      "space2107.jpg\n",
      "W\n"
     ]
    },
    {
     "name": "stderr",
     "output_type": "stream",
     "text": [
      "100%|██████████████████████████████████████████████████████████████████████████| 3000/3000 [00:00<00:00, 3637731.14it/s]\n"
     ]
    },
    {
     "name": "stdout",
     "output_type": "stream",
     "text": [
      "W774.jpg\n",
      "W1192.jpg\n",
      "W1000.jpg\n",
      "W2729.jpg\n",
      "W239.jpg\n",
      "W2983.jpg\n",
      "W2327.jpg\n",
      "W1169.jpg\n",
      "W373.jpg\n",
      "W96.jpg\n",
      "E\n"
     ]
    },
    {
     "name": "stderr",
     "output_type": "stream",
     "text": [
      "100%|██████████████████████████████████████████████████████████████████████████| 3000/3000 [00:00<00:00, 3320905.78it/s]\n"
     ]
    },
    {
     "name": "stdout",
     "output_type": "stream",
     "text": [
      "E1763.jpg\n",
      "E183.jpg\n",
      "E2541.jpg\n",
      "E1840.jpg\n",
      "E1176.jpg\n",
      "E1451.jpg\n",
      "E1730.jpg\n",
      "E1138.jpg\n",
      "E1058.jpg\n",
      "E1494.jpg\n",
      "X\n"
     ]
    },
    {
     "name": "stderr",
     "output_type": "stream",
     "text": [
      "100%|██████████████████████████████████████████████████████████████████████████| 3000/3000 [00:00<00:00, 3958135.26it/s]\n"
     ]
    },
    {
     "name": "stdout",
     "output_type": "stream",
     "text": [
      "X2030.jpg\n",
      "X2464.jpg\n",
      "X286.jpg\n",
      "X1062.jpg\n",
      "X1589.jpg\n",
      "X1974.jpg\n",
      "X1383.jpg\n",
      "X514.jpg\n",
      "X2043.jpg\n",
      "X1412.jpg\n",
      "N\n"
     ]
    },
    {
     "name": "stderr",
     "output_type": "stream",
     "text": [
      "100%|██████████████████████████████████████████████████████████████████████████| 3000/3000 [00:00<00:00, 3881219.00it/s]\n"
     ]
    },
    {
     "name": "stdout",
     "output_type": "stream",
     "text": [
      "N1168.jpg\n",
      "N17.jpg\n",
      "N97.jpg\n",
      "N2279.jpg\n",
      "N58.jpg\n",
      "N1740.jpg\n",
      "N2441.jpg\n",
      "N1286.jpg\n",
      "N1050.jpg\n",
      "N1087.jpg\n",
      "H\n"
     ]
    },
    {
     "name": "stderr",
     "output_type": "stream",
     "text": [
      "100%|██████████████████████████████████████████████████████████████████████████| 3000/3000 [00:00<00:00, 3748260.95it/s]\n"
     ]
    },
    {
     "name": "stdout",
     "output_type": "stream",
     "text": [
      "H2309.jpg\n",
      "H896.jpg\n",
      "H1990.jpg\n",
      "H1048.jpg\n",
      "H1089.jpg\n",
      "H2350.jpg\n",
      "H2049.jpg\n",
      "H1476.jpg\n",
      "H861.jpg\n",
      "H2064.jpg\n",
      "S\n"
     ]
    },
    {
     "name": "stderr",
     "output_type": "stream",
     "text": [
      "100%|██████████████████████████████████████████████████████████████████████████| 3000/3000 [00:00<00:00, 3780923.08it/s]\n"
     ]
    },
    {
     "name": "stdout",
     "output_type": "stream",
     "text": [
      "S1203.jpg\n",
      "S55.jpg\n",
      "S2146.jpg\n",
      "S234.jpg\n",
      "S2178.jpg\n",
      "S2387.jpg\n",
      "S316.jpg\n",
      "S2543.jpg\n",
      "S25.jpg\n",
      "S2774.jpg\n",
      "Z\n"
     ]
    },
    {
     "name": "stderr",
     "output_type": "stream",
     "text": [
      "100%|██████████████████████████████████████████████████████████████████████████| 3000/3000 [00:00<00:00, 3916250.23it/s]"
     ]
    },
    {
     "name": "stdout",
     "output_type": "stream",
     "text": [
      "Z1745.jpg\n",
      "Z1775.jpg\n",
      "Z2578.jpg\n",
      "Z2188.jpg\n",
      "Z2472.jpg\n",
      "Z1118.jpg\n",
      "Z81.jpg\n",
      "Z1896.jpg\n",
      "Z1954.jpg\n",
      "Z2758.jpg\n"
     ]
    },
    {
     "name": "stderr",
     "output_type": "stream",
     "text": [
      "\n"
     ]
    }
   ],
   "source": [
    "folder = \"/home/mtaha5/code/mtaha5/sign-language/raw_data/asl_dataset/asl_alphabet_train/asl_alphabet_train_origin/\"\n",
    "for folderName in os.listdir(folder):\n",
    "    print(folderName)\n",
    "    for image_filename in list(tqdm(os.listdir(folder + folderName)))[:10]:\n",
    "        print (image_filename)"
   ]
  },
  {
   "cell_type": "code",
   "execution_count": 32,
   "id": "4c500d07-ee31-4015-a750-26adf36c67f3",
   "metadata": {},
   "outputs": [],
   "source": [
    "def get_data(folder, sample_images = 10, imageSize = 48):\n",
    "    X = []\n",
    "    y = []\n",
    "    for folderName in os.listdir(folder):\n",
    "        if not folderName.startswith('.'):\n",
    "            if folderName in ['A']:\n",
    "                label = 0\n",
    "            elif folderName in ['B']:\n",
    "                label = 1\n",
    "            elif folderName in ['C']:\n",
    "                label = 2\n",
    "            elif folderName in ['D']:\n",
    "                label = 3\n",
    "            elif folderName in ['E']:\n",
    "                label = 4\n",
    "            elif folderName in ['F']:\n",
    "                label = 5\n",
    "            elif folderName in ['G']:\n",
    "                label = 6\n",
    "            elif folderName in ['H']:\n",
    "                label = 7\n",
    "            elif folderName in ['I']:\n",
    "                label = 8\n",
    "            elif folderName in ['J']:\n",
    "                label = 9\n",
    "            elif folderName in ['K']:\n",
    "                label = 10\n",
    "            elif folderName in ['L']:\n",
    "                label = 11\n",
    "            elif folderName in ['M']:\n",
    "                label = 12\n",
    "            elif folderName in ['N']:\n",
    "                label = 13\n",
    "            elif folderName in ['O']:\n",
    "                label = 14\n",
    "            elif folderName in ['P']:\n",
    "                label = 15\n",
    "            elif folderName in ['Q']:\n",
    "                label = 16\n",
    "            elif folderName in ['R']:\n",
    "                label = 17\n",
    "            elif folderName in ['S']:\n",
    "                label = 18\n",
    "            elif folderName in ['T']:\n",
    "                label = 19\n",
    "            elif folderName in ['U']:\n",
    "                label = 20\n",
    "            elif folderName in ['V']:\n",
    "                label = 21\n",
    "            elif folderName in ['W']:\n",
    "                label = 22\n",
    "            elif folderName in ['X']:\n",
    "                label = 23\n",
    "            elif folderName in ['Y']:\n",
    "                label = 24\n",
    "            elif folderName in ['Z']:\n",
    "                label = 25\n",
    "            elif folderName in ['del']:\n",
    "                label = 26\n",
    "            elif folderName in ['nothing']:\n",
    "                label = 27\n",
    "            elif folderName in ['space']:\n",
    "                label = 28           \n",
    "            else:\n",
    "                label = 29\n",
    "\n",
    "            print(folderName)\n",
    "            for image_filename in list(tqdm(os.listdir(folder + folderName)))[:sample_images]:\n",
    "                img_file = cv2.imread(folder + folderName + '/' + image_filename)\n",
    "                if img_file is not None:\n",
    "                    img_file = skimage.transform.resize(img_file, (imageSize, imageSize, 3))\n",
    "                    img_arr = np.asarray(img_file)\n",
    "                    X.append(img_arr)\n",
    "                    y.append(label)\n",
    "\n",
    "    print(\"finished all letters\")\n",
    "    X = np.asarray(X)\n",
    "    y = np.asarray(y)\n",
    "    return X,y"
   ]
  },
  {
   "cell_type": "code",
   "execution_count": 33,
   "id": "c1f19384-6d40-4cfa-bc7c-0b3e0b26f95a",
   "metadata": {},
   "outputs": [],
   "source": [
    "train_path = \"/home/mtaha5/code/mtaha5/sign-language/raw_data/asl_dataset/asl_alphabet_train/asl_alphabet_train_origin/\""
   ]
  },
  {
   "cell_type": "code",
   "execution_count": 34,
   "id": "927c9a39-c1bd-4278-b324-e2ad5814d591",
   "metadata": {
    "scrolled": true
   },
   "outputs": [
    {
     "name": "stdout",
     "output_type": "stream",
     "text": [
      "J\n"
     ]
    },
    {
     "name": "stderr",
     "output_type": "stream",
     "text": [
      "100%|██████████████████████████████████████████████████████████████████████████| 3000/3000 [00:00<00:00, 2134505.85it/s]\n"
     ]
    },
    {
     "name": "stdout",
     "output_type": "stream",
     "text": [
      "P\n"
     ]
    },
    {
     "name": "stderr",
     "output_type": "stream",
     "text": [
      "100%|██████████████████████████████████████████████████████████████████████████| 3000/3000 [00:00<00:00, 2357233.42it/s]\n"
     ]
    },
    {
     "name": "stdout",
     "output_type": "stream",
     "text": [
      "G\n"
     ]
    },
    {
     "name": "stderr",
     "output_type": "stream",
     "text": [
      "100%|██████████████████████████████████████████████████████████████████████████| 3000/3000 [00:00<00:00, 4282815.52it/s]\n"
     ]
    },
    {
     "name": "stdout",
     "output_type": "stream",
     "text": [
      "V\n"
     ]
    },
    {
     "name": "stderr",
     "output_type": "stream",
     "text": [
      "100%|██████████████████████████████████████████████████████████████████████████| 3000/3000 [00:00<00:00, 4030401.02it/s]\n"
     ]
    },
    {
     "name": "stdout",
     "output_type": "stream",
     "text": [
      "L\n"
     ]
    },
    {
     "name": "stderr",
     "output_type": "stream",
     "text": [
      "100%|██████████████████████████████████████████████████████████████████████████| 3000/3000 [00:00<00:00, 3826919.71it/s]\n"
     ]
    },
    {
     "name": "stdout",
     "output_type": "stream",
     "text": [
      "B\n"
     ]
    },
    {
     "name": "stderr",
     "output_type": "stream",
     "text": [
      "100%|██████████████████████████████████████████████████████████████████████████| 3000/3000 [00:00<00:00, 4335944.87it/s]\n"
     ]
    },
    {
     "name": "stdout",
     "output_type": "stream",
     "text": [
      "D\n"
     ]
    },
    {
     "name": "stderr",
     "output_type": "stream",
     "text": [
      "100%|██████████████████████████████████████████████████████████████████████████| 3000/3000 [00:00<00:00, 2527704.30it/s]\n"
     ]
    },
    {
     "name": "stdout",
     "output_type": "stream",
     "text": [
      "A\n"
     ]
    },
    {
     "name": "stderr",
     "output_type": "stream",
     "text": [
      "100%|██████████████████████████████████████████████████████████████████████████| 3000/3000 [00:00<00:00, 4055079.60it/s]\n"
     ]
    },
    {
     "name": "stdout",
     "output_type": "stream",
     "text": [
      "Q\n"
     ]
    },
    {
     "name": "stderr",
     "output_type": "stream",
     "text": [
      "100%|██████████████████████████████████████████████████████████████████████████| 3000/3000 [00:00<00:00, 3904099.29it/s]\n"
     ]
    },
    {
     "name": "stdout",
     "output_type": "stream",
     "text": [
      "O\n"
     ]
    },
    {
     "name": "stderr",
     "output_type": "stream",
     "text": [
      "100%|██████████████████████████████████████████████████████████████████████████| 3000/3000 [00:00<00:00, 4465192.33it/s]\n"
     ]
    },
    {
     "name": "stdout",
     "output_type": "stream",
     "text": [
      "U\n"
     ]
    },
    {
     "name": "stderr",
     "output_type": "stream",
     "text": [
      "100%|██████████████████████████████████████████████████████████████████████████| 3000/3000 [00:00<00:00, 4285732.97it/s]\n"
     ]
    },
    {
     "name": "stdout",
     "output_type": "stream",
     "text": [
      "nothing\n"
     ]
    },
    {
     "name": "stderr",
     "output_type": "stream",
     "text": [
      "100%|██████████████████████████████████████████████████████████████████████████| 3000/3000 [00:00<00:00, 4334451.26it/s]\n"
     ]
    },
    {
     "name": "stdout",
     "output_type": "stream",
     "text": [
      "I\n"
     ]
    },
    {
     "name": "stderr",
     "output_type": "stream",
     "text": [
      "100%|██████████████████████████████████████████████████████████████████████████| 3000/3000 [00:00<00:00, 3253079.63it/s]\n"
     ]
    },
    {
     "name": "stdout",
     "output_type": "stream",
     "text": [
      "T\n"
     ]
    },
    {
     "name": "stderr",
     "output_type": "stream",
     "text": [
      "100%|██████████████████████████████████████████████████████████████████████████| 3000/3000 [00:00<00:00, 4154147.24it/s]\n"
     ]
    },
    {
     "name": "stdout",
     "output_type": "stream",
     "text": [
      "C\n"
     ]
    },
    {
     "name": "stderr",
     "output_type": "stream",
     "text": [
      "100%|██████████████████████████████████████████████████████████████████████████| 3000/3000 [00:00<00:00, 3922354.11it/s]\n"
     ]
    },
    {
     "name": "stdout",
     "output_type": "stream",
     "text": [
      "del\n"
     ]
    },
    {
     "name": "stderr",
     "output_type": "stream",
     "text": [
      "100%|██████████████████████████████████████████████████████████████████████████| 3000/3000 [00:00<00:00, 4318089.22it/s]\n"
     ]
    },
    {
     "name": "stdout",
     "output_type": "stream",
     "text": [
      "K\n"
     ]
    },
    {
     "name": "stderr",
     "output_type": "stream",
     "text": [
      "100%|██████████████████████████████████████████████████████████████████████████| 3000/3000 [00:00<00:00, 3487503.33it/s]\n"
     ]
    },
    {
     "name": "stdout",
     "output_type": "stream",
     "text": [
      "R\n"
     ]
    },
    {
     "name": "stderr",
     "output_type": "stream",
     "text": [
      "100%|██████████████████████████████████████████████████████████████████████████| 3000/3000 [00:00<00:00, 4208331.77it/s]\n"
     ]
    },
    {
     "name": "stdout",
     "output_type": "stream",
     "text": [
      "M\n"
     ]
    },
    {
     "name": "stderr",
     "output_type": "stream",
     "text": [
      "100%|██████████████████████████████████████████████████████████████████████████| 3000/3000 [00:00<00:00, 3519695.66it/s]\n"
     ]
    },
    {
     "name": "stdout",
     "output_type": "stream",
     "text": [
      "F\n"
     ]
    },
    {
     "name": "stderr",
     "output_type": "stream",
     "text": [
      "100%|██████████████████████████████████████████████████████████████████████████| 3000/3000 [00:00<00:00, 3905310.99it/s]\n"
     ]
    },
    {
     "name": "stdout",
     "output_type": "stream",
     "text": [
      "Y\n"
     ]
    },
    {
     "name": "stderr",
     "output_type": "stream",
     "text": [
      "100%|██████████████████████████████████████████████████████████████████████████| 3000/3000 [00:00<00:00, 4056386.85it/s]\n"
     ]
    },
    {
     "name": "stdout",
     "output_type": "stream",
     "text": [
      "space\n"
     ]
    },
    {
     "name": "stderr",
     "output_type": "stream",
     "text": [
      "100%|██████████████████████████████████████████████████████████████████████████| 3000/3000 [00:00<00:00, 4266840.28it/s]\n"
     ]
    },
    {
     "name": "stdout",
     "output_type": "stream",
     "text": [
      "W\n"
     ]
    },
    {
     "name": "stderr",
     "output_type": "stream",
     "text": [
      "100%|██████████████████████████████████████████████████████████████████████████| 3000/3000 [00:00<00:00, 4126898.00it/s]\n"
     ]
    },
    {
     "name": "stdout",
     "output_type": "stream",
     "text": [
      "E\n"
     ]
    },
    {
     "name": "stderr",
     "output_type": "stream",
     "text": [
      "100%|██████████████████████████████████████████████████████████████████████████| 3000/3000 [00:00<00:00, 2711250.16it/s]\n"
     ]
    },
    {
     "name": "stdout",
     "output_type": "stream",
     "text": [
      "X\n"
     ]
    },
    {
     "name": "stderr",
     "output_type": "stream",
     "text": [
      "100%|██████████████████████████████████████████████████████████████████████████| 3000/3000 [00:00<00:00, 3549481.52it/s]\n"
     ]
    },
    {
     "name": "stdout",
     "output_type": "stream",
     "text": [
      "N\n"
     ]
    },
    {
     "name": "stderr",
     "output_type": "stream",
     "text": [
      "100%|██████████████████████████████████████████████████████████████████████████| 3000/3000 [00:00<00:00, 1749084.24it/s]\n"
     ]
    },
    {
     "name": "stdout",
     "output_type": "stream",
     "text": [
      "H\n"
     ]
    },
    {
     "name": "stderr",
     "output_type": "stream",
     "text": [
      "100%|██████████████████████████████████████████████████████████████████████████| 3000/3000 [00:00<00:00, 4007296.82it/s]\n"
     ]
    },
    {
     "name": "stdout",
     "output_type": "stream",
     "text": [
      "S\n"
     ]
    },
    {
     "name": "stderr",
     "output_type": "stream",
     "text": [
      "100%|██████████████████████████████████████████████████████████████████████████| 3000/3000 [00:00<00:00, 4218207.17it/s]\n"
     ]
    },
    {
     "name": "stdout",
     "output_type": "stream",
     "text": [
      "Z\n"
     ]
    },
    {
     "name": "stderr",
     "output_type": "stream",
     "text": [
      "100%|██████████████████████████████████████████████████████████████████████████| 3000/3000 [00:00<00:00, 4263948.49it/s]\n"
     ]
    },
    {
     "name": "stdout",
     "output_type": "stream",
     "text": [
      "finished all letters\n"
     ]
    }
   ],
   "source": [
    "X_train, y_train = get_data(train_path, sample_images = 10, imageSize = 200)"
   ]
  },
  {
   "cell_type": "code",
   "execution_count": 19,
   "id": "2d36c476-5af9-4334-a0f6-810ab01a8add",
   "metadata": {},
   "outputs": [],
   "source": [
    "outPath = \"/home/mtaha5/code/mtaha5/sign-language/raw_data/asl_dataset/asl_alphabet_train/asl_alphabet_train_crop\""
   ]
  },
  {
   "cell_type": "code",
   "execution_count": 35,
   "id": "151945da-ba63-48cc-82b7-aa2e86c5dfd0",
   "metadata": {},
   "outputs": [],
   "source": [
    "with open('X_train.npy', 'wb') as f:\n",
    "    np.save(f ,X_train)\n"
   ]
  },
  {
   "cell_type": "code",
   "execution_count": 36,
   "id": "fa55a52c-f87f-4520-af43-a576db566046",
   "metadata": {},
   "outputs": [
    {
     "data": {
      "text/plain": [
       "(290, 200, 200, 3)"
      ]
     },
     "execution_count": 36,
     "metadata": {},
     "output_type": "execute_result"
    }
   ],
   "source": [
    "X_train.shape"
   ]
  },
  {
   "cell_type": "code",
   "execution_count": 37,
   "id": "9abce4dc-1506-4449-9c8c-b0859c90af64",
   "metadata": {},
   "outputs": [
    {
     "data": {
      "text/plain": [
       "(1, 200, 200, 3)"
      ]
     },
     "execution_count": 37,
     "metadata": {},
     "output_type": "execute_result"
    }
   ],
   "source": [
    "X_train[:1].shape"
   ]
  },
  {
   "cell_type": "code",
   "execution_count": 38,
   "id": "893a221e-0937-4db7-bc2b-2c3c7f8b10b4",
   "metadata": {},
   "outputs": [
    {
     "data": {
      "text/plain": [
       "1.0"
      ]
     },
     "execution_count": 38,
     "metadata": {},
     "output_type": "execute_result"
    }
   ],
   "source": [
    "X_train[:1].max()"
   ]
  },
  {
   "cell_type": "code",
   "execution_count": 29,
   "id": "374dbd87-99dc-484d-9e33-8f6648d4a3f6",
   "metadata": {},
   "outputs": [],
   "source": [
    "import matplotlib.pyplot as plt"
   ]
  },
  {
   "cell_type": "code",
   "execution_count": 43,
   "id": "9ef5f8ca-dd56-4bd6-9978-2acf2b316c13",
   "metadata": {},
   "outputs": [],
   "source": [
    "label_dict = {0: 'A', \n",
    "              1: 'B', \n",
    "              2: 'C',\n",
    "              3: 'D', \n",
    "              4: 'E', \n",
    "              5: 'F', \n",
    "              6: 'G',\n",
    "              7: 'H', \n",
    "              8: 'I', \n",
    "              9: 'J', \n",
    "              10: 'K',\n",
    "              11: 'L', \n",
    "              12: 'M', \n",
    "              13: 'N', \n",
    "              14: 'O',\n",
    "              15: 'P', \n",
    "              16: 'Q', \n",
    "              17: 'R', \n",
    "              18: 'S',\n",
    "              19: 'T', \n",
    "              20: 'U', \n",
    "              21: 'V', \n",
    "              22: 'W',\n",
    "              23: 'X', \n",
    "              24: 'Y', \n",
    "              25: 'Z', \n",
    "              26: 'del', \n",
    "              27: 'nothing', \n",
    "              28: 'space'}"
   ]
  },
  {
   "cell_type": "code",
   "execution_count": 44,
   "id": "ba13e3aa-f093-4663-bfd4-e707fa42793b",
   "metadata": {},
   "outputs": [
    {
     "data": {
      "text/plain": [
       "Text(0.5, 1.0, 'P')"
      ]
     },
     "execution_count": 44,
     "metadata": {},
     "output_type": "execute_result"
    },
    {
     "data": {
      "image/png": "[encoded data removed]",
      "text/plain": [
       "<Figure size 640x480 with 1 Axes>"
      ]
     },
     "metadata": {},
     "output_type": "display_data"
    }
   ],
   "source": [
    "index = 13\n",
    "plt.imshow(np.squeeze(X_train[index-1:index]))\n",
    "plt.title(label_dict[y_train[index-1:index][0]])"
   ]
  },
  {
   "cell_type": "code",
   "execution_count": null,
   "id": "961fd2a4-bea2-4ffa-8035-260de42309c0",
   "metadata": {},
   "outputs": [],
   "source": []
  },
  {
   "cell_type": "code",
   "execution_count": null,
   "id": "c04e053c-3b05-44d9-a4ed-f145ed992fbb",
   "metadata": {},
   "outputs": [],
   "source": []
  }
 ],
 "metadata": {
  "kernelspec": {
   "display_name": "Python 3 (ipykernel)",
   "language": "python",
   "name": "python3"
  },
  "language_info": {
   "codemirror_mode": {
    "name": "ipython",
    "version": 3
   },
   "file_extension": ".py",
   "mimetype": "text/x-python",
   "name": "python",
   "nbconvert_exporter": "python",
   "pygments_lexer": "ipython3",
   "version": "3.8.12"
  }
 },
 "nbformat": 4,
 "nbformat_minor": 5
}
